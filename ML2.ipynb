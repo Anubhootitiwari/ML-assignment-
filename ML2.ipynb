{
  "nbformat": 4,
  "nbformat_minor": 0,
  "metadata": {
    "colab": {
      "provenance": []
    },
    "kernelspec": {
      "name": "python3",
      "display_name": "Python 3"
    },
    "language_info": {
      "name": "python"
    }
  },
  "cells": [
    {
      "cell_type": "code",
      "execution_count": null,
      "metadata": {
        "colab": {
          "base_uri": "https://localhost:8080/"
        },
        "id": "L5lARO7n5pJU",
        "outputId": "2114ea21-890c-42ab-ea01-964367b52e3f"
      },
      "outputs": [
        {
          "output_type": "stream",
          "name": "stdout",
          "text": [
            "\n",
            "Number of samples in the training set: 120\n",
            "Number of samples in the testing set: 30\n"
          ]
        }
      ],
      "source": [
        "# data_splitting.py\n",
        "\n",
        "from sklearn.datasets import load_iris\n",
        "from sklearn.model_selection import train_test_split\n",
        "\n",
        "# Load the Iris dataset\n",
        "iris = load_iris()\n",
        "X = iris.data\n",
        "y = iris.target\n",
        "\n",
        "# Split the dataset into training and testing sets\n",
        "X_train, X_test, y_train, y_test = train_test_split(X, y, test_size=0.2, random_state=42)\n",
        "\n",
        "# Print the number of samples in both training and testing sets\n",
        "print(\"\\nNumber of samples in the training set:\", X_train.shape[0])\n",
        "print(\"Number of samples in the testing set:\", X_test.shape[0])\n"
      ]
    }
  ]
}